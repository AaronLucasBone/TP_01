{
 "cells": [
  {
   "cell_type": "markdown",
   "metadata": {},
   "source": [
    "# Team Project 1  \n",
    "**Authors:** Aaron Bone and Molly Rovinski  \n",
    "**Version:** 1.0\n",
    "**Semester:** Spring 2021  \n",
    "\n",
    "**Goal:** Apply the exploratory analysis techniques you have learned this semester to prepare a dataset and implement a machine learning (ML) model. "
   ]
  },
  {
   "cell_type": "code",
   "execution_count": 1,
   "metadata": {},
   "outputs": [],
   "source": [
    "import pandas as pd\n",
    "import numpy as np\n",
    "import matplotlib.pyplot as plt\n",
    "import seaborn as sns\n",
    "%matplotlib inline"
   ]
  },
  {
   "cell_type": "markdown",
   "metadata": {},
   "source": [
    "## Part 1: Exploratory Data Analysis"
   ]
  },
  {
   "cell_type": "markdown",
   "metadata": {},
   "source": [
    "Read in Chess data file."
   ]
  },
  {
   "cell_type": "code",
   "execution_count": 2,
   "metadata": {},
   "outputs": [],
   "source": [
    "p = pd.read_csv('Chess.csv')"
   ]
  },
  {
   "cell_type": "code",
   "execution_count": null,
   "metadata": {
    "scrolled": true
   },
   "outputs": [],
   "source": [
    "p.head(5)"
   ]
  },
  {
   "cell_type": "markdown",
   "metadata": {},
   "source": [
    "Drop columns that do not correlate with each other due to specificity of each game. "
   ]
  },
  {
   "cell_type": "code",
   "execution_count": null,
   "metadata": {},
   "outputs": [],
   "source": [
    "Chess = p.drop(columns = ['Result', 'Site', 'Event', 'Opening'])"
   ]
  },
  {
   "cell_type": "code",
   "execution_count": null,
   "metadata": {
    "scrolled": true
   },
   "outputs": [],
   "source": [
    "Chess.columns"
   ]
  },
  {
   "cell_type": "markdown",
   "metadata": {},
   "source": [
    "Gather date type for each variable. "
   ]
  },
  {
   "cell_type": "code",
   "execution_count": null,
   "metadata": {},
   "outputs": [],
   "source": [
    "Chess.info(verbose = True)"
   ]
  },
  {
   "cell_type": "code",
   "execution_count": null,
   "metadata": {},
   "outputs": [],
   "source": [
    "pd.set_option('display.max_columns', None)"
   ]
  },
  {
   "cell_type": "code",
   "execution_count": null,
   "metadata": {},
   "outputs": [],
   "source": [
    "pd.set_option('display.max_rows', None)"
   ]
  },
  {
   "cell_type": "markdown",
   "metadata": {},
   "source": [
    "Find missing data for each variable. "
   ]
  },
  {
   "cell_type": "code",
   "execution_count": null,
   "metadata": {},
   "outputs": [],
   "source": [
    "Chess.isna().mean().round(10)*100"
   ]
  },
  {
   "cell_type": "code",
   "execution_count": null,
   "metadata": {},
   "outputs": [],
   "source": [
    "Chess.head()"
   ]
  },
  {
   "cell_type": "code",
   "execution_count": null,
   "metadata": {},
   "outputs": [],
   "source": [
    "Chess.tail()"
   ]
  },
  {
   "cell_type": "code",
   "execution_count": null,
   "metadata": {},
   "outputs": [],
   "source": [
    "Chess.columns"
   ]
  },
  {
   "cell_type": "markdown",
   "metadata": {},
   "source": [
    "Get data summary for Chess dataset. "
   ]
  },
  {
   "cell_type": "code",
   "execution_count": null,
   "metadata": {},
   "outputs": [],
   "source": [
    "Chess.describe().T.round(2)"
   ]
  },
  {
   "cell_type": "markdown",
   "metadata": {},
   "source": [
    "Find frequencies for each categorical variable. "
   ]
  },
  {
   "cell_type": "code",
   "execution_count": null,
   "metadata": {},
   "outputs": [],
   "source": [
    "Chess.Termination.value_counts()"
   ]
  },
  {
   "cell_type": "code",
   "execution_count": null,
   "metadata": {},
   "outputs": [],
   "source": [
    "Chess.Termination.value_counts()/len(Chess)"
   ]
  },
  {
   "cell_type": "code",
   "execution_count": null,
   "metadata": {},
   "outputs": [],
   "source": [
    "Chess.Black_elo_category.value_counts()"
   ]
  },
  {
   "cell_type": "code",
   "execution_count": null,
   "metadata": {},
   "outputs": [],
   "source": [
    "Chess.Black_elo_category.value_counts()/len(Chess)"
   ]
  },
  {
   "cell_type": "code",
   "execution_count": null,
   "metadata": {},
   "outputs": [],
   "source": [
    "Chess.White_elo_category.value_counts()"
   ]
  },
  {
   "cell_type": "code",
   "execution_count": null,
   "metadata": {},
   "outputs": [],
   "source": [
    "Chess.White_elo_category.value_counts()/len(Chess)"
   ]
  },
  {
   "cell_type": "code",
   "execution_count": null,
   "metadata": {},
   "outputs": [],
   "source": [
    "Chess.Game_type.value_counts()"
   ]
  },
  {
   "cell_type": "code",
   "execution_count": null,
   "metadata": {},
   "outputs": [],
   "source": [
    "Chess.Game_type.value_counts()/len(Chess)"
   ]
  },
  {
   "cell_type": "code",
   "execution_count": null,
   "metadata": {},
   "outputs": [],
   "source": [
    "Chess.ECO.value_counts()"
   ]
  },
  {
   "cell_type": "code",
   "execution_count": null,
   "metadata": {
    "scrolled": false
   },
   "outputs": [],
   "source": [
    "Chess.ECO.value_counts()/len(Chess)"
   ]
  },
  {
   "cell_type": "markdown",
   "metadata": {},
   "source": [
    "Create correlation matrix and heatmap."
   ]
  },
  {
   "cell_type": "code",
   "execution_count": null,
   "metadata": {},
   "outputs": [],
   "source": [
    "Chess.corr()"
   ]
  },
  {
   "cell_type": "code",
   "execution_count": null,
   "metadata": {},
   "outputs": [],
   "source": [
    "Correlation_Tab = Chess.corr()"
   ]
  },
  {
   "cell_type": "code",
   "execution_count": null,
   "metadata": {
    "scrolled": true
   },
   "outputs": [],
   "source": [
    "plt.figure(figsize = (12,9))\n",
    "sns.heatmap(Correlation_Tab)\n",
    "plt.savefig('CorrelationTable')"
   ]
  },
  {
   "cell_type": "markdown",
   "metadata": {},
   "source": [
    "Create distribution plots for each variable. "
   ]
  },
  {
   "cell_type": "code",
   "execution_count": null,
   "metadata": {},
   "outputs": [],
   "source": [
    "sns.displot(Chess.BlackElo, kde = True)\n",
    "plt.savefig('BlackElo')"
   ]
  },
  {
   "cell_type": "code",
   "execution_count": null,
   "metadata": {},
   "outputs": [],
   "source": [
    "sns.displot(Chess.WhiteElo, kde = True)\n",
    "plt.savefig('WhiteElo')"
   ]
  },
  {
   "cell_type": "code",
   "execution_count": null,
   "metadata": {},
   "outputs": [],
   "source": [
    "sns.displot(Chess.starting_time, kde = True)\n",
    "plt.savefig('starting_time')"
   ]
  },
  {
   "cell_type": "code",
   "execution_count": null,
   "metadata": {},
   "outputs": [],
   "source": [
    "sns.displot(Chess.Total_moves, kde = True)\n",
    "plt.savefig('Total_moves')"
   ]
  },
  {
   "cell_type": "code",
   "execution_count": null,
   "metadata": {},
   "outputs": [],
   "source": [
    "sns.displot(Chess.Black_blunders, kde = True)\n",
    "plt.savefig('Black_blunders')"
   ]
  },
  {
   "cell_type": "code",
   "execution_count": null,
   "metadata": {},
   "outputs": [],
   "source": [
    "sns.displot(Chess.White_blunders, kde = True)\n",
    "plt.savefig('White_blunders')"
   ]
  },
  {
   "cell_type": "code",
   "execution_count": null,
   "metadata": {},
   "outputs": [],
   "source": [
    "sns.displot(Chess.Black_mistakes, kde = True)\n",
    "plt.savefig('Black_mistakes')"
   ]
  },
  {
   "cell_type": "code",
   "execution_count": null,
   "metadata": {},
   "outputs": [],
   "source": [
    "sns.displot(Chess.White_mistakes, kde = True)\n",
    "plt.savefig('White_mistakes')"
   ]
  },
  {
   "cell_type": "code",
   "execution_count": null,
   "metadata": {},
   "outputs": [],
   "source": [
    "sns.displot(Chess.Black_inaccuracies, kde = True)\n",
    "plt.savefig('Black_inaccuracies')"
   ]
  },
  {
   "cell_type": "code",
   "execution_count": null,
   "metadata": {},
   "outputs": [],
   "source": [
    "sns.displot(Chess.White_inaccuracies, kde = True)\n",
    "plt.savefig('White_inaccuracies')"
   ]
  },
  {
   "cell_type": "code",
   "execution_count": null,
   "metadata": {},
   "outputs": [],
   "source": [
    "sns.displot(Chess.Black_inferior_moves, kde = True)\n",
    "plt.savefig('Black_inferior_moves')"
   ]
  },
  {
   "cell_type": "code",
   "execution_count": null,
   "metadata": {},
   "outputs": [],
   "source": [
    "sns.displot(Chess.White_inferior_moves, kde = True)\n",
    "plt.savefig('White_inferior_moves')"
   ]
  },
  {
   "cell_type": "code",
   "execution_count": null,
   "metadata": {},
   "outputs": [],
   "source": [
    "sns.displot(Chess.Black_ts_moves, kde = True)\n",
    "plt.savefig('Black_ts_moves')"
   ]
  },
  {
   "cell_type": "code",
   "execution_count": null,
   "metadata": {},
   "outputs": [],
   "source": [
    "sns.displot(Chess.White_ts_moves, kde = True)\n",
    "plt.savefig('White_ts_moves')"
   ]
  },
  {
   "cell_type": "code",
   "execution_count": null,
   "metadata": {},
   "outputs": [],
   "source": [
    "sns.displot(Chess.Black_ts_blunders, kde = True)\n",
    "plt.savefig('Black_ts_blunders')"
   ]
  },
  {
   "cell_type": "code",
   "execution_count": null,
   "metadata": {},
   "outputs": [],
   "source": [
    "sns.displot(Chess.White_ts_blunders, kde = True)\n",
    "plt.savefig('White_ts_blunders')"
   ]
  },
  {
   "cell_type": "code",
   "execution_count": null,
   "metadata": {},
   "outputs": [],
   "source": [
    "sns.displot(Chess.Black_ts_mistakes, kde = True)\n",
    "plt.savefig('Black_ts_mistakes')"
   ]
  },
  {
   "cell_type": "code",
   "execution_count": null,
   "metadata": {},
   "outputs": [],
   "source": [
    "sns.displot(Chess.White_ts_mistake, kde = True)\n",
    "plt.savefig('White_ts_mistake')"
   ]
  },
  {
   "cell_type": "code",
   "execution_count": null,
   "metadata": {},
   "outputs": [],
   "source": [
    "sns.displot(Chess.Black_long_moves, kde = True)\n",
    "plt.savefig('Black_long_moves')"
   ]
  },
  {
   "cell_type": "code",
   "execution_count": null,
   "metadata": {},
   "outputs": [],
   "source": [
    "sns.displot(Chess.White_long_moves, kde = True)\n",
    "plt.savefig('White_long_moves')"
   ]
  },
  {
   "cell_type": "code",
   "execution_count": null,
   "metadata": {},
   "outputs": [],
   "source": [
    "sns.displot(Chess.Black_bad_long_moves, kde = True)\n",
    "plt.savefig('Black_bad_long_moves')"
   ]
  },
  {
   "cell_type": "code",
   "execution_count": null,
   "metadata": {},
   "outputs": [],
   "source": [
    "sns.displot(Chess.White_bad_long_moves, kde = True)\n",
    "plt.savefig('White_bad_long_moves')"
   ]
  },
  {
   "cell_type": "code",
   "execution_count": null,
   "metadata": {},
   "outputs": [],
   "source": [
    "sns.displot(Chess.Game_flips, kde = True)\n",
    "plt.savefig('Game_flips')"
   ]
  },
  {
   "cell_type": "code",
   "execution_count": null,
   "metadata": {
    "scrolled": true
   },
   "outputs": [],
   "source": [
    "sns.displot(Chess.Game_flips_ts, kde = True)\n",
    "plt.savefig('Game_flips_ts')"
   ]
  },
  {
   "cell_type": "markdown",
   "metadata": {},
   "source": [
    "Create scatter plots for the dataset. "
   ]
  },
  {
   "cell_type": "code",
   "execution_count": null,
   "metadata": {},
   "outputs": [],
   "source": [
    "plt.figure(figsize = (20,10))\n",
    "plt.scatter(Chess.WhiteElo, Chess.BlackElo, color = 'purple', marker = 'o')\n",
    "plt.savefig('WhiteElo BlackElo Scatter')"
   ]
  },
  {
   "cell_type": "code",
   "execution_count": null,
   "metadata": {},
   "outputs": [],
   "source": [
    "plt.figure(figsize = (20,10))\n",
    "plt.scatter(Chess.starting_time, Chess.Total_moves, color = 'purple', marker = 'o')\n",
    "plt.savefig('starting_time total_moves scatter')"
   ]
  },
  {
   "cell_type": "markdown",
   "metadata": {},
   "source": [
    "Create bar graphs for each categorical variable. "
   ]
  },
  {
   "cell_type": "code",
   "execution_count": null,
   "metadata": {},
   "outputs": [],
   "source": [
    "fig = plt.figure(figsize = (60,20))\n",
    "Chess.Game_type.groupby(Chess.Game_type).count().plot(kind = \n",
    "                                                    'bar', title = 'Game Type', xlabel = 'Game Type',\n",
    "                                                    ylabel = 'Count', color = 'blue')\n",
    "plt.savefig('Game_type')"
   ]
  },
  {
   "cell_type": "code",
   "execution_count": null,
   "metadata": {},
   "outputs": [],
   "source": [
    "fig = plt.figure(figsize = (60,20))\n",
    "Chess.Date.groupby(Chess.Date).count().plot(kind = \n",
    "                                                    'bar', title = 'Game Type', xlabel = 'Game Type',\n",
    "                                                    ylabel = 'Count', color = 'blue')\n",
    "plt.savefig('Date')"
   ]
  },
  {
   "cell_type": "code",
   "execution_count": null,
   "metadata": {},
   "outputs": [],
   "source": [
    "fig = plt.figure(figsize = (60,20))\n",
    "Chess.ECO.groupby(Chess.ECO).count().plot(kind = \n",
    "                                                    'bar', title = 'Game Type', xlabel = 'Game Type',\n",
    "                                                    ylabel = 'Count', color = 'blue')\n",
    "plt.savefig('ECO')"
   ]
  },
  {
   "cell_type": "code",
   "execution_count": null,
   "metadata": {},
   "outputs": [],
   "source": [
    "fig = plt.figure(figsize = (60,20))\n",
    "Chess.White_elo_category.groupby(Chess.White_elo_category).count().plot(kind = \n",
    "                                                    'bar', title = 'Game Type', xlabel = 'Game Type',\n",
    "                                                    ylabel = 'Count', color = 'blue')\n",
    "plt.savefig('White_elo_category')"
   ]
  },
  {
   "cell_type": "code",
   "execution_count": null,
   "metadata": {},
   "outputs": [],
   "source": [
    "fig = plt.figure(figsize = (60,20))\n",
    "Chess.Black_elo_category.groupby(Chess.Black_elo_category).count().plot(kind = \n",
    "                                                    'bar', title = 'Game Type', xlabel = 'Game Type',\n",
    "                                                    ylabel = 'Count', color = 'blue')\n",
    "plt.savefig('Black_elo_category')"
   ]
  },
  {
   "cell_type": "code",
   "execution_count": null,
   "metadata": {},
   "outputs": [],
   "source": [
    "fig = plt.figure(figsize = (60,20))\n",
    "Chess.Termination.groupby(Chess.Termination).count().plot(kind = \n",
    "                                                    'bar', title = 'Game Type', xlabel = 'Game Type',\n",
    "                                                    ylabel = 'Count', color = 'blue')\n",
    "plt.savefig('Termination')"
   ]
  },
  {
   "cell_type": "markdown",
   "metadata": {},
   "source": [
    "So we're going to implement K-Nearest Neighbor Machine Learning to predict the winner of a game based off of number of innaccruate moves. "
   ]
  },
  {
   "cell_type": "code",
   "execution_count": 3,
   "metadata": {},
   "outputs": [],
   "source": [
    "from sklearn.neighbors import KNeighborsClassifier\n",
    "from sklearn.model_selection import train_test_split\n",
    "from sklearn import metrics"
   ]
  },
  {
   "cell_type": "markdown",
   "metadata": {},
   "source": [
    "Dropping excess Columns"
   ]
  },
  {
   "cell_type": "code",
   "execution_count": 4,
   "metadata": {},
   "outputs": [],
   "source": [
    "ChessML = p.drop(columns = ['Site', 'Event', 'Opening', 'Date', 'ECO', 'Termination', 'TimeControl', 'UTCTime', 'Black_elo_category', 'White_elo_category', 'increment', 'Game_type'])"
   ]
  },
  {
   "cell_type": "code",
   "execution_count": 5,
   "metadata": {},
   "outputs": [
    {
     "name": "stdout",
     "output_type": "stream",
     "text": [
      "<class 'pandas.core.frame.DataFrame'>\n",
      "RangeIndex: 3739909 entries, 0 to 3739908\n",
      "Data columns (total 28 columns):\n",
      " #   Column                Dtype  \n",
      "---  ------                -----  \n",
      " 0   GAME                  int64  \n",
      " 1   BlackElo              int64  \n",
      " 2   BlackRatingDiff       float64\n",
      " 3   Result                object \n",
      " 4   WhiteElo              int64  \n",
      " 5   WhiteRatingDiff       float64\n",
      " 6   starting_time         float64\n",
      " 7   Total_moves           int64  \n",
      " 8   Black_blunders        int64  \n",
      " 9   White_blunders        int64  \n",
      " 10  Black_mistakes        int64  \n",
      " 11  White_mistakes        int64  \n",
      " 12  Black_inaccuracies    int64  \n",
      " 13  White_inaccuracies    int64  \n",
      " 14  Black_inferior_moves  int64  \n",
      " 15  White_inferior_moves  int64  \n",
      " 16  Black_ts_moves        int64  \n",
      " 17  White_ts_moves        int64  \n",
      " 18  Black_ts_blunders     int64  \n",
      " 19  White_ts_blunders     int64  \n",
      " 20  Black_ts_mistakes     int64  \n",
      " 21  White_ts_mistake      int64  \n",
      " 22  Black_long_moves      int64  \n",
      " 23  White_long_moves      int64  \n",
      " 24  Black_bad_long_moves  int64  \n",
      " 25  White_bad_long_moves  int64  \n",
      " 26  Game_flips            int64  \n",
      " 27  Game_flips_ts         int64  \n",
      "dtypes: float64(3), int64(24), object(1)\n",
      "memory usage: 798.9+ MB\n"
     ]
    }
   ],
   "source": [
    "ChessML.info()"
   ]
  },
  {
   "cell_type": "markdown",
   "metadata": {},
   "source": [
    "Creating a raw elo difference column so that negatives and NaN don't appear."
   ]
  },
  {
   "cell_type": "code",
   "execution_count": 6,
   "metadata": {},
   "outputs": [],
   "source": [
    "ChessML['Rating Difference'] = (ChessML['WhiteElo']-ChessML['BlackElo']).abs()"
   ]
  },
  {
   "cell_type": "markdown",
   "metadata": {},
   "source": [
    "Creation of a numerically based result column"
   ]
  },
  {
   "cell_type": "code",
   "execution_count": 7,
   "metadata": {},
   "outputs": [],
   "source": [
    "ChessML[['White Score','Black Score']] = ChessML['Result'].str.split('-',expand=True)"
   ]
  },
  {
   "cell_type": "code",
   "execution_count": 8,
   "metadata": {},
   "outputs": [
    {
     "data": {
      "text/plain": [
       "Index(['GAME', 'BlackElo', 'BlackRatingDiff', 'Result', 'WhiteElo',\n",
       "       'WhiteRatingDiff', 'starting_time', 'Total_moves', 'Black_blunders',\n",
       "       'White_blunders', 'Black_mistakes', 'White_mistakes',\n",
       "       'Black_inaccuracies', 'White_inaccuracies', 'Black_inferior_moves',\n",
       "       'White_inferior_moves', 'Black_ts_moves', 'White_ts_moves',\n",
       "       'Black_ts_blunders', 'White_ts_blunders', 'Black_ts_mistakes',\n",
       "       'White_ts_mistake', 'Black_long_moves', 'White_long_moves',\n",
       "       'Black_bad_long_moves', 'White_bad_long_moves', 'Game_flips',\n",
       "       'Game_flips_ts', 'Rating Difference', 'White Score', 'Black Score'],\n",
       "      dtype='object')"
      ]
     },
     "execution_count": 8,
     "metadata": {},
     "output_type": "execute_result"
    }
   ],
   "source": [
    "ChessML.columns"
   ]
  },
  {
   "cell_type": "markdown",
   "metadata": {},
   "source": [
    "We can drop some other columns here too for some ease of calculation"
   ]
  },
  {
   "cell_type": "code",
   "execution_count": 9,
   "metadata": {},
   "outputs": [],
   "source": [
    "ChessML = ChessML.drop(columns=['BlackRatingDiff', 'Result', 'WhiteRatingDiff'])"
   ]
  },
  {
   "cell_type": "code",
   "execution_count": 10,
   "metadata": {},
   "outputs": [],
   "source": [
    "s = ChessML['White Score']\n",
    "s2 = ChessML['Black Score']"
   ]
  },
  {
   "cell_type": "code",
   "execution_count": 11,
   "metadata": {},
   "outputs": [],
   "source": [
    "s = [5 if x=='1/2' else x for x in s]\n",
    "s2 = [5 if x=='1/2' else x for x in s]"
   ]
  },
  {
   "cell_type": "code",
   "execution_count": 12,
   "metadata": {},
   "outputs": [],
   "source": [
    "ChessML['White Score'] = s\n",
    "ChessML['Black Score'] = s2"
   ]
  },
  {
   "cell_type": "code",
   "execution_count": 13,
   "metadata": {},
   "outputs": [
    {
     "data": {
      "text/html": [
       "<div>\n",
       "<style scoped>\n",
       "    .dataframe tbody tr th:only-of-type {\n",
       "        vertical-align: middle;\n",
       "    }\n",
       "\n",
       "    .dataframe tbody tr th {\n",
       "        vertical-align: top;\n",
       "    }\n",
       "\n",
       "    .dataframe thead th {\n",
       "        text-align: right;\n",
       "    }\n",
       "</style>\n",
       "<table border=\"1\" class=\"dataframe\">\n",
       "  <thead>\n",
       "    <tr style=\"text-align: right;\">\n",
       "      <th></th>\n",
       "      <th>GAME</th>\n",
       "      <th>BlackElo</th>\n",
       "      <th>WhiteElo</th>\n",
       "      <th>starting_time</th>\n",
       "      <th>Total_moves</th>\n",
       "      <th>Black_blunders</th>\n",
       "      <th>White_blunders</th>\n",
       "      <th>Black_mistakes</th>\n",
       "      <th>White_mistakes</th>\n",
       "      <th>Black_inaccuracies</th>\n",
       "      <th>...</th>\n",
       "      <th>White_ts_mistake</th>\n",
       "      <th>Black_long_moves</th>\n",
       "      <th>White_long_moves</th>\n",
       "      <th>Black_bad_long_moves</th>\n",
       "      <th>White_bad_long_moves</th>\n",
       "      <th>Game_flips</th>\n",
       "      <th>Game_flips_ts</th>\n",
       "      <th>Rating Difference</th>\n",
       "      <th>White Score</th>\n",
       "      <th>Black Score</th>\n",
       "    </tr>\n",
       "  </thead>\n",
       "  <tbody>\n",
       "    <tr>\n",
       "      <th>3630735</th>\n",
       "      <td>91850</td>\n",
       "      <td>1442</td>\n",
       "      <td>1497</td>\n",
       "      <td>180.0</td>\n",
       "      <td>50</td>\n",
       "      <td>4</td>\n",
       "      <td>3</td>\n",
       "      <td>4</td>\n",
       "      <td>4</td>\n",
       "      <td>0</td>\n",
       "      <td>...</td>\n",
       "      <td>0</td>\n",
       "      <td>1</td>\n",
       "      <td>2</td>\n",
       "      <td>1</td>\n",
       "      <td>1</td>\n",
       "      <td>13</td>\n",
       "      <td>3</td>\n",
       "      <td>55</td>\n",
       "      <td>0</td>\n",
       "      <td>0</td>\n",
       "    </tr>\n",
       "    <tr>\n",
       "      <th>2307469</th>\n",
       "      <td>48996</td>\n",
       "      <td>1662</td>\n",
       "      <td>1683</td>\n",
       "      <td>180.0</td>\n",
       "      <td>59</td>\n",
       "      <td>2</td>\n",
       "      <td>2</td>\n",
       "      <td>3</td>\n",
       "      <td>2</td>\n",
       "      <td>1</td>\n",
       "      <td>...</td>\n",
       "      <td>0</td>\n",
       "      <td>0</td>\n",
       "      <td>3</td>\n",
       "      <td>0</td>\n",
       "      <td>0</td>\n",
       "      <td>0</td>\n",
       "      <td>0</td>\n",
       "      <td>21</td>\n",
       "      <td>1</td>\n",
       "      <td>1</td>\n",
       "    </tr>\n",
       "    <tr>\n",
       "      <th>706113</th>\n",
       "      <td>67048</td>\n",
       "      <td>1798</td>\n",
       "      <td>1794</td>\n",
       "      <td>60.0</td>\n",
       "      <td>31</td>\n",
       "      <td>0</td>\n",
       "      <td>0</td>\n",
       "      <td>1</td>\n",
       "      <td>0</td>\n",
       "      <td>1</td>\n",
       "      <td>...</td>\n",
       "      <td>0</td>\n",
       "      <td>0</td>\n",
       "      <td>0</td>\n",
       "      <td>0</td>\n",
       "      <td>0</td>\n",
       "      <td>1</td>\n",
       "      <td>0</td>\n",
       "      <td>4</td>\n",
       "      <td>1</td>\n",
       "      <td>1</td>\n",
       "    </tr>\n",
       "    <tr>\n",
       "      <th>1303219</th>\n",
       "      <td>42389</td>\n",
       "      <td>1415</td>\n",
       "      <td>1444</td>\n",
       "      <td>300.0</td>\n",
       "      <td>45</td>\n",
       "      <td>2</td>\n",
       "      <td>0</td>\n",
       "      <td>4</td>\n",
       "      <td>3</td>\n",
       "      <td>2</td>\n",
       "      <td>...</td>\n",
       "      <td>0</td>\n",
       "      <td>2</td>\n",
       "      <td>0</td>\n",
       "      <td>1</td>\n",
       "      <td>0</td>\n",
       "      <td>6</td>\n",
       "      <td>0</td>\n",
       "      <td>29</td>\n",
       "      <td>1</td>\n",
       "      <td>1</td>\n",
       "    </tr>\n",
       "    <tr>\n",
       "      <th>1903328</th>\n",
       "      <td>32415</td>\n",
       "      <td>2155</td>\n",
       "      <td>2176</td>\n",
       "      <td>60.0</td>\n",
       "      <td>68</td>\n",
       "      <td>3</td>\n",
       "      <td>5</td>\n",
       "      <td>1</td>\n",
       "      <td>1</td>\n",
       "      <td>2</td>\n",
       "      <td>...</td>\n",
       "      <td>0</td>\n",
       "      <td>0</td>\n",
       "      <td>1</td>\n",
       "      <td>0</td>\n",
       "      <td>0</td>\n",
       "      <td>3</td>\n",
       "      <td>0</td>\n",
       "      <td>21</td>\n",
       "      <td>0</td>\n",
       "      <td>0</td>\n",
       "    </tr>\n",
       "    <tr>\n",
       "      <th>3562602</th>\n",
       "      <td>136195</td>\n",
       "      <td>1482</td>\n",
       "      <td>1500</td>\n",
       "      <td>600.0</td>\n",
       "      <td>75</td>\n",
       "      <td>6</td>\n",
       "      <td>5</td>\n",
       "      <td>3</td>\n",
       "      <td>2</td>\n",
       "      <td>5</td>\n",
       "      <td>...</td>\n",
       "      <td>0</td>\n",
       "      <td>0</td>\n",
       "      <td>0</td>\n",
       "      <td>0</td>\n",
       "      <td>0</td>\n",
       "      <td>10</td>\n",
       "      <td>0</td>\n",
       "      <td>18</td>\n",
       "      <td>1</td>\n",
       "      <td>1</td>\n",
       "    </tr>\n",
       "    <tr>\n",
       "      <th>1050921</th>\n",
       "      <td>163304</td>\n",
       "      <td>1852</td>\n",
       "      <td>1873</td>\n",
       "      <td>180.0</td>\n",
       "      <td>35</td>\n",
       "      <td>2</td>\n",
       "      <td>0</td>\n",
       "      <td>0</td>\n",
       "      <td>0</td>\n",
       "      <td>2</td>\n",
       "      <td>...</td>\n",
       "      <td>0</td>\n",
       "      <td>0</td>\n",
       "      <td>1</td>\n",
       "      <td>0</td>\n",
       "      <td>0</td>\n",
       "      <td>1</td>\n",
       "      <td>0</td>\n",
       "      <td>21</td>\n",
       "      <td>1</td>\n",
       "      <td>1</td>\n",
       "    </tr>\n",
       "    <tr>\n",
       "      <th>2452176</th>\n",
       "      <td>159083</td>\n",
       "      <td>1664</td>\n",
       "      <td>1659</td>\n",
       "      <td>180.0</td>\n",
       "      <td>21</td>\n",
       "      <td>1</td>\n",
       "      <td>0</td>\n",
       "      <td>1</td>\n",
       "      <td>0</td>\n",
       "      <td>2</td>\n",
       "      <td>...</td>\n",
       "      <td>0</td>\n",
       "      <td>0</td>\n",
       "      <td>0</td>\n",
       "      <td>0</td>\n",
       "      <td>0</td>\n",
       "      <td>1</td>\n",
       "      <td>0</td>\n",
       "      <td>5</td>\n",
       "      <td>1</td>\n",
       "      <td>1</td>\n",
       "    </tr>\n",
       "    <tr>\n",
       "      <th>207042</th>\n",
       "      <td>48711</td>\n",
       "      <td>1283</td>\n",
       "      <td>1310</td>\n",
       "      <td>600.0</td>\n",
       "      <td>82</td>\n",
       "      <td>2</td>\n",
       "      <td>2</td>\n",
       "      <td>8</td>\n",
       "      <td>14</td>\n",
       "      <td>5</td>\n",
       "      <td>...</td>\n",
       "      <td>0</td>\n",
       "      <td>1</td>\n",
       "      <td>0</td>\n",
       "      <td>1</td>\n",
       "      <td>0</td>\n",
       "      <td>21</td>\n",
       "      <td>0</td>\n",
       "      <td>27</td>\n",
       "      <td>0</td>\n",
       "      <td>0</td>\n",
       "    </tr>\n",
       "    <tr>\n",
       "      <th>64103</th>\n",
       "      <td>143426</td>\n",
       "      <td>1506</td>\n",
       "      <td>1326</td>\n",
       "      <td>60.0</td>\n",
       "      <td>41</td>\n",
       "      <td>0</td>\n",
       "      <td>0</td>\n",
       "      <td>3</td>\n",
       "      <td>2</td>\n",
       "      <td>1</td>\n",
       "      <td>...</td>\n",
       "      <td>0</td>\n",
       "      <td>0</td>\n",
       "      <td>0</td>\n",
       "      <td>0</td>\n",
       "      <td>0</td>\n",
       "      <td>4</td>\n",
       "      <td>0</td>\n",
       "      <td>180</td>\n",
       "      <td>1</td>\n",
       "      <td>1</td>\n",
       "    </tr>\n",
       "    <tr>\n",
       "      <th>2405778</th>\n",
       "      <td>145778</td>\n",
       "      <td>2099</td>\n",
       "      <td>2259</td>\n",
       "      <td>60.0</td>\n",
       "      <td>55</td>\n",
       "      <td>2</td>\n",
       "      <td>1</td>\n",
       "      <td>3</td>\n",
       "      <td>2</td>\n",
       "      <td>5</td>\n",
       "      <td>...</td>\n",
       "      <td>0</td>\n",
       "      <td>1</td>\n",
       "      <td>0</td>\n",
       "      <td>1</td>\n",
       "      <td>0</td>\n",
       "      <td>3</td>\n",
       "      <td>0</td>\n",
       "      <td>160</td>\n",
       "      <td>1</td>\n",
       "      <td>1</td>\n",
       "    </tr>\n",
       "    <tr>\n",
       "      <th>1465397</th>\n",
       "      <td>75627</td>\n",
       "      <td>1773</td>\n",
       "      <td>1872</td>\n",
       "      <td>900.0</td>\n",
       "      <td>117</td>\n",
       "      <td>4</td>\n",
       "      <td>3</td>\n",
       "      <td>6</td>\n",
       "      <td>9</td>\n",
       "      <td>4</td>\n",
       "      <td>...</td>\n",
       "      <td>0</td>\n",
       "      <td>0</td>\n",
       "      <td>2</td>\n",
       "      <td>0</td>\n",
       "      <td>0</td>\n",
       "      <td>13</td>\n",
       "      <td>0</td>\n",
       "      <td>99</td>\n",
       "      <td>1</td>\n",
       "      <td>1</td>\n",
       "    </tr>\n",
       "    <tr>\n",
       "      <th>2148640</th>\n",
       "      <td>13760</td>\n",
       "      <td>1855</td>\n",
       "      <td>1946</td>\n",
       "      <td>180.0</td>\n",
       "      <td>52</td>\n",
       "      <td>0</td>\n",
       "      <td>2</td>\n",
       "      <td>0</td>\n",
       "      <td>0</td>\n",
       "      <td>3</td>\n",
       "      <td>...</td>\n",
       "      <td>0</td>\n",
       "      <td>0</td>\n",
       "      <td>0</td>\n",
       "      <td>0</td>\n",
       "      <td>0</td>\n",
       "      <td>1</td>\n",
       "      <td>0</td>\n",
       "      <td>91</td>\n",
       "      <td>0</td>\n",
       "      <td>0</td>\n",
       "    </tr>\n",
       "    <tr>\n",
       "      <th>274096</th>\n",
       "      <td>84369</td>\n",
       "      <td>1559</td>\n",
       "      <td>1591</td>\n",
       "      <td>900.0</td>\n",
       "      <td>59</td>\n",
       "      <td>0</td>\n",
       "      <td>0</td>\n",
       "      <td>4</td>\n",
       "      <td>5</td>\n",
       "      <td>1</td>\n",
       "      <td>...</td>\n",
       "      <td>0</td>\n",
       "      <td>0</td>\n",
       "      <td>1</td>\n",
       "      <td>0</td>\n",
       "      <td>0</td>\n",
       "      <td>6</td>\n",
       "      <td>0</td>\n",
       "      <td>32</td>\n",
       "      <td>5</td>\n",
       "      <td>5</td>\n",
       "    </tr>\n",
       "    <tr>\n",
       "      <th>1558738</th>\n",
       "      <td>62573</td>\n",
       "      <td>1107</td>\n",
       "      <td>1088</td>\n",
       "      <td>600.0</td>\n",
       "      <td>20</td>\n",
       "      <td>1</td>\n",
       "      <td>1</td>\n",
       "      <td>0</td>\n",
       "      <td>0</td>\n",
       "      <td>0</td>\n",
       "      <td>...</td>\n",
       "      <td>0</td>\n",
       "      <td>0</td>\n",
       "      <td>0</td>\n",
       "      <td>0</td>\n",
       "      <td>0</td>\n",
       "      <td>1</td>\n",
       "      <td>0</td>\n",
       "      <td>19</td>\n",
       "      <td>0</td>\n",
       "      <td>0</td>\n",
       "    </tr>\n",
       "    <tr>\n",
       "      <th>3631799</th>\n",
       "      <td>113659</td>\n",
       "      <td>1646</td>\n",
       "      <td>1598</td>\n",
       "      <td>300.0</td>\n",
       "      <td>51</td>\n",
       "      <td>1</td>\n",
       "      <td>0</td>\n",
       "      <td>2</td>\n",
       "      <td>0</td>\n",
       "      <td>2</td>\n",
       "      <td>...</td>\n",
       "      <td>0</td>\n",
       "      <td>0</td>\n",
       "      <td>0</td>\n",
       "      <td>0</td>\n",
       "      <td>0</td>\n",
       "      <td>2</td>\n",
       "      <td>0</td>\n",
       "      <td>48</td>\n",
       "      <td>1</td>\n",
       "      <td>1</td>\n",
       "    </tr>\n",
       "    <tr>\n",
       "      <th>2173074</th>\n",
       "      <td>126441</td>\n",
       "      <td>2289</td>\n",
       "      <td>2168</td>\n",
       "      <td>900.0</td>\n",
       "      <td>49</td>\n",
       "      <td>0</td>\n",
       "      <td>0</td>\n",
       "      <td>3</td>\n",
       "      <td>0</td>\n",
       "      <td>1</td>\n",
       "      <td>...</td>\n",
       "      <td>0</td>\n",
       "      <td>3</td>\n",
       "      <td>1</td>\n",
       "      <td>2</td>\n",
       "      <td>0</td>\n",
       "      <td>1</td>\n",
       "      <td>0</td>\n",
       "      <td>121</td>\n",
       "      <td>1</td>\n",
       "      <td>1</td>\n",
       "    </tr>\n",
       "    <tr>\n",
       "      <th>1049403</th>\n",
       "      <td>133835</td>\n",
       "      <td>2113</td>\n",
       "      <td>2152</td>\n",
       "      <td>180.0</td>\n",
       "      <td>43</td>\n",
       "      <td>1</td>\n",
       "      <td>0</td>\n",
       "      <td>1</td>\n",
       "      <td>1</td>\n",
       "      <td>4</td>\n",
       "      <td>...</td>\n",
       "      <td>0</td>\n",
       "      <td>0</td>\n",
       "      <td>0</td>\n",
       "      <td>0</td>\n",
       "      <td>0</td>\n",
       "      <td>1</td>\n",
       "      <td>0</td>\n",
       "      <td>39</td>\n",
       "      <td>1</td>\n",
       "      <td>1</td>\n",
       "    </tr>\n",
       "    <tr>\n",
       "      <th>1218636</th>\n",
       "      <td>28796</td>\n",
       "      <td>1274</td>\n",
       "      <td>1278</td>\n",
       "      <td>600.0</td>\n",
       "      <td>36</td>\n",
       "      <td>2</td>\n",
       "      <td>3</td>\n",
       "      <td>1</td>\n",
       "      <td>2</td>\n",
       "      <td>0</td>\n",
       "      <td>...</td>\n",
       "      <td>0</td>\n",
       "      <td>0</td>\n",
       "      <td>0</td>\n",
       "      <td>0</td>\n",
       "      <td>0</td>\n",
       "      <td>5</td>\n",
       "      <td>0</td>\n",
       "      <td>4</td>\n",
       "      <td>0</td>\n",
       "      <td>0</td>\n",
       "    </tr>\n",
       "    <tr>\n",
       "      <th>2497414</th>\n",
       "      <td>157377</td>\n",
       "      <td>2292</td>\n",
       "      <td>2282</td>\n",
       "      <td>180.0</td>\n",
       "      <td>59</td>\n",
       "      <td>0</td>\n",
       "      <td>0</td>\n",
       "      <td>4</td>\n",
       "      <td>2</td>\n",
       "      <td>2</td>\n",
       "      <td>...</td>\n",
       "      <td>0</td>\n",
       "      <td>3</td>\n",
       "      <td>3</td>\n",
       "      <td>1</td>\n",
       "      <td>2</td>\n",
       "      <td>6</td>\n",
       "      <td>1</td>\n",
       "      <td>10</td>\n",
       "      <td>1</td>\n",
       "      <td>1</td>\n",
       "    </tr>\n",
       "    <tr>\n",
       "      <th>3392037</th>\n",
       "      <td>41402</td>\n",
       "      <td>1774</td>\n",
       "      <td>1554</td>\n",
       "      <td>600.0</td>\n",
       "      <td>99</td>\n",
       "      <td>4</td>\n",
       "      <td>2</td>\n",
       "      <td>5</td>\n",
       "      <td>7</td>\n",
       "      <td>8</td>\n",
       "      <td>...</td>\n",
       "      <td>0</td>\n",
       "      <td>1</td>\n",
       "      <td>0</td>\n",
       "      <td>1</td>\n",
       "      <td>0</td>\n",
       "      <td>9</td>\n",
       "      <td>0</td>\n",
       "      <td>220</td>\n",
       "      <td>1</td>\n",
       "      <td>1</td>\n",
       "    </tr>\n",
       "    <tr>\n",
       "      <th>3540022</th>\n",
       "      <td>38860</td>\n",
       "      <td>1262</td>\n",
       "      <td>1273</td>\n",
       "      <td>1800.0</td>\n",
       "      <td>70</td>\n",
       "      <td>2</td>\n",
       "      <td>2</td>\n",
       "      <td>3</td>\n",
       "      <td>4</td>\n",
       "      <td>1</td>\n",
       "      <td>...</td>\n",
       "      <td>0</td>\n",
       "      <td>0</td>\n",
       "      <td>0</td>\n",
       "      <td>0</td>\n",
       "      <td>0</td>\n",
       "      <td>2</td>\n",
       "      <td>0</td>\n",
       "      <td>11</td>\n",
       "      <td>1</td>\n",
       "      <td>1</td>\n",
       "    </tr>\n",
       "    <tr>\n",
       "      <th>1076516</th>\n",
       "      <td>122842</td>\n",
       "      <td>1311</td>\n",
       "      <td>1438</td>\n",
       "      <td>1800.0</td>\n",
       "      <td>53</td>\n",
       "      <td>5</td>\n",
       "      <td>2</td>\n",
       "      <td>4</td>\n",
       "      <td>7</td>\n",
       "      <td>2</td>\n",
       "      <td>...</td>\n",
       "      <td>0</td>\n",
       "      <td>0</td>\n",
       "      <td>0</td>\n",
       "      <td>0</td>\n",
       "      <td>0</td>\n",
       "      <td>13</td>\n",
       "      <td>0</td>\n",
       "      <td>127</td>\n",
       "      <td>1</td>\n",
       "      <td>1</td>\n",
       "    </tr>\n",
       "    <tr>\n",
       "      <th>2723449</th>\n",
       "      <td>166130</td>\n",
       "      <td>1610</td>\n",
       "      <td>1611</td>\n",
       "      <td>180.0</td>\n",
       "      <td>59</td>\n",
       "      <td>4</td>\n",
       "      <td>3</td>\n",
       "      <td>4</td>\n",
       "      <td>4</td>\n",
       "      <td>4</td>\n",
       "      <td>...</td>\n",
       "      <td>0</td>\n",
       "      <td>0</td>\n",
       "      <td>0</td>\n",
       "      <td>0</td>\n",
       "      <td>0</td>\n",
       "      <td>8</td>\n",
       "      <td>0</td>\n",
       "      <td>1</td>\n",
       "      <td>1</td>\n",
       "      <td>1</td>\n",
       "    </tr>\n",
       "    <tr>\n",
       "      <th>2197406</th>\n",
       "      <td>76111</td>\n",
       "      <td>1617</td>\n",
       "      <td>1642</td>\n",
       "      <td>180.0</td>\n",
       "      <td>61</td>\n",
       "      <td>5</td>\n",
       "      <td>8</td>\n",
       "      <td>6</td>\n",
       "      <td>5</td>\n",
       "      <td>4</td>\n",
       "      <td>...</td>\n",
       "      <td>0</td>\n",
       "      <td>2</td>\n",
       "      <td>1</td>\n",
       "      <td>0</td>\n",
       "      <td>0</td>\n",
       "      <td>15</td>\n",
       "      <td>1</td>\n",
       "      <td>25</td>\n",
       "      <td>1</td>\n",
       "      <td>1</td>\n",
       "    </tr>\n",
       "  </tbody>\n",
       "</table>\n",
       "<p>25 rows × 28 columns</p>\n",
       "</div>"
      ],
      "text/plain": [
       "           GAME  BlackElo  WhiteElo  starting_time  Total_moves  \\\n",
       "3630735   91850      1442      1497          180.0           50   \n",
       "2307469   48996      1662      1683          180.0           59   \n",
       "706113    67048      1798      1794           60.0           31   \n",
       "1303219   42389      1415      1444          300.0           45   \n",
       "1903328   32415      2155      2176           60.0           68   \n",
       "3562602  136195      1482      1500          600.0           75   \n",
       "1050921  163304      1852      1873          180.0           35   \n",
       "2452176  159083      1664      1659          180.0           21   \n",
       "207042    48711      1283      1310          600.0           82   \n",
       "64103    143426      1506      1326           60.0           41   \n",
       "2405778  145778      2099      2259           60.0           55   \n",
       "1465397   75627      1773      1872          900.0          117   \n",
       "2148640   13760      1855      1946          180.0           52   \n",
       "274096    84369      1559      1591          900.0           59   \n",
       "1558738   62573      1107      1088          600.0           20   \n",
       "3631799  113659      1646      1598          300.0           51   \n",
       "2173074  126441      2289      2168          900.0           49   \n",
       "1049403  133835      2113      2152          180.0           43   \n",
       "1218636   28796      1274      1278          600.0           36   \n",
       "2497414  157377      2292      2282          180.0           59   \n",
       "3392037   41402      1774      1554          600.0           99   \n",
       "3540022   38860      1262      1273         1800.0           70   \n",
       "1076516  122842      1311      1438         1800.0           53   \n",
       "2723449  166130      1610      1611          180.0           59   \n",
       "2197406   76111      1617      1642          180.0           61   \n",
       "\n",
       "         Black_blunders  White_blunders  Black_mistakes  White_mistakes  \\\n",
       "3630735               4               3               4               4   \n",
       "2307469               2               2               3               2   \n",
       "706113                0               0               1               0   \n",
       "1303219               2               0               4               3   \n",
       "1903328               3               5               1               1   \n",
       "3562602               6               5               3               2   \n",
       "1050921               2               0               0               0   \n",
       "2452176               1               0               1               0   \n",
       "207042                2               2               8              14   \n",
       "64103                 0               0               3               2   \n",
       "2405778               2               1               3               2   \n",
       "1465397               4               3               6               9   \n",
       "2148640               0               2               0               0   \n",
       "274096                0               0               4               5   \n",
       "1558738               1               1               0               0   \n",
       "3631799               1               0               2               0   \n",
       "2173074               0               0               3               0   \n",
       "1049403               1               0               1               1   \n",
       "1218636               2               3               1               2   \n",
       "2497414               0               0               4               2   \n",
       "3392037               4               2               5               7   \n",
       "3540022               2               2               3               4   \n",
       "1076516               5               2               4               7   \n",
       "2723449               4               3               4               4   \n",
       "2197406               5               8               6               5   \n",
       "\n",
       "         Black_inaccuracies  ...  White_ts_mistake  Black_long_moves  \\\n",
       "3630735                   0  ...                 0                 1   \n",
       "2307469                   1  ...                 0                 0   \n",
       "706113                    1  ...                 0                 0   \n",
       "1303219                   2  ...                 0                 2   \n",
       "1903328                   2  ...                 0                 0   \n",
       "3562602                   5  ...                 0                 0   \n",
       "1050921                   2  ...                 0                 0   \n",
       "2452176                   2  ...                 0                 0   \n",
       "207042                    5  ...                 0                 1   \n",
       "64103                     1  ...                 0                 0   \n",
       "2405778                   5  ...                 0                 1   \n",
       "1465397                   4  ...                 0                 0   \n",
       "2148640                   3  ...                 0                 0   \n",
       "274096                    1  ...                 0                 0   \n",
       "1558738                   0  ...                 0                 0   \n",
       "3631799                   2  ...                 0                 0   \n",
       "2173074                   1  ...                 0                 3   \n",
       "1049403                   4  ...                 0                 0   \n",
       "1218636                   0  ...                 0                 0   \n",
       "2497414                   2  ...                 0                 3   \n",
       "3392037                   8  ...                 0                 1   \n",
       "3540022                   1  ...                 0                 0   \n",
       "1076516                   2  ...                 0                 0   \n",
       "2723449                   4  ...                 0                 0   \n",
       "2197406                   4  ...                 0                 2   \n",
       "\n",
       "         White_long_moves  Black_bad_long_moves  White_bad_long_moves  \\\n",
       "3630735                 2                     1                     1   \n",
       "2307469                 3                     0                     0   \n",
       "706113                  0                     0                     0   \n",
       "1303219                 0                     1                     0   \n",
       "1903328                 1                     0                     0   \n",
       "3562602                 0                     0                     0   \n",
       "1050921                 1                     0                     0   \n",
       "2452176                 0                     0                     0   \n",
       "207042                  0                     1                     0   \n",
       "64103                   0                     0                     0   \n",
       "2405778                 0                     1                     0   \n",
       "1465397                 2                     0                     0   \n",
       "2148640                 0                     0                     0   \n",
       "274096                  1                     0                     0   \n",
       "1558738                 0                     0                     0   \n",
       "3631799                 0                     0                     0   \n",
       "2173074                 1                     2                     0   \n",
       "1049403                 0                     0                     0   \n",
       "1218636                 0                     0                     0   \n",
       "2497414                 3                     1                     2   \n",
       "3392037                 0                     1                     0   \n",
       "3540022                 0                     0                     0   \n",
       "1076516                 0                     0                     0   \n",
       "2723449                 0                     0                     0   \n",
       "2197406                 1                     0                     0   \n",
       "\n",
       "         Game_flips  Game_flips_ts  Rating Difference  White Score  \\\n",
       "3630735          13              3                 55            0   \n",
       "2307469           0              0                 21            1   \n",
       "706113            1              0                  4            1   \n",
       "1303219           6              0                 29            1   \n",
       "1903328           3              0                 21            0   \n",
       "3562602          10              0                 18            1   \n",
       "1050921           1              0                 21            1   \n",
       "2452176           1              0                  5            1   \n",
       "207042           21              0                 27            0   \n",
       "64103             4              0                180            1   \n",
       "2405778           3              0                160            1   \n",
       "1465397          13              0                 99            1   \n",
       "2148640           1              0                 91            0   \n",
       "274096            6              0                 32            5   \n",
       "1558738           1              0                 19            0   \n",
       "3631799           2              0                 48            1   \n",
       "2173074           1              0                121            1   \n",
       "1049403           1              0                 39            1   \n",
       "1218636           5              0                  4            0   \n",
       "2497414           6              1                 10            1   \n",
       "3392037           9              0                220            1   \n",
       "3540022           2              0                 11            1   \n",
       "1076516          13              0                127            1   \n",
       "2723449           8              0                  1            1   \n",
       "2197406          15              1                 25            1   \n",
       "\n",
       "         Black Score  \n",
       "3630735            0  \n",
       "2307469            1  \n",
       "706113             1  \n",
       "1303219            1  \n",
       "1903328            0  \n",
       "3562602            1  \n",
       "1050921            1  \n",
       "2452176            1  \n",
       "207042             0  \n",
       "64103              1  \n",
       "2405778            1  \n",
       "1465397            1  \n",
       "2148640            0  \n",
       "274096             5  \n",
       "1558738            0  \n",
       "3631799            1  \n",
       "2173074            1  \n",
       "1049403            1  \n",
       "1218636            0  \n",
       "2497414            1  \n",
       "3392037            1  \n",
       "3540022            1  \n",
       "1076516            1  \n",
       "2723449            1  \n",
       "2197406            1  \n",
       "\n",
       "[25 rows x 28 columns]"
      ]
     },
     "execution_count": 13,
     "metadata": {},
     "output_type": "execute_result"
    }
   ],
   "source": [
    "ChessML.sample(25)"
   ]
  },
  {
   "cell_type": "code",
   "execution_count": 32,
   "metadata": {},
   "outputs": [
    {
     "ename": "AttributeError",
     "evalue": "'Series' object has no attribute 'isdigit'",
     "output_type": "error",
     "traceback": [
      "\u001b[1;31m---------------------------------------------------------------------------\u001b[0m",
      "\u001b[1;31mAttributeError\u001b[0m                            Traceback (most recent call last)",
      "\u001b[1;32m<ipython-input-32-19c8881e87d8>\u001b[0m in \u001b[0;36m<module>\u001b[1;34m\u001b[0m\n\u001b[1;32m----> 1\u001b[1;33m \u001b[0mChessML\u001b[0m\u001b[1;33m[\u001b[0m\u001b[1;34m'White Score'\u001b[0m\u001b[1;33m]\u001b[0m\u001b[1;33m.\u001b[0m\u001b[0misdigit\u001b[0m\u001b[1;33m(\u001b[0m\u001b[1;33m)\u001b[0m\u001b[1;33m\u001b[0m\u001b[1;33m\u001b[0m\u001b[0m\n\u001b[0m",
      "\u001b[1;32m~\\anaconda3\\lib\\site-packages\\pandas\\core\\generic.py\u001b[0m in \u001b[0;36m__getattr__\u001b[1;34m(self, name)\u001b[0m\n\u001b[0;32m   5137\u001b[0m             \u001b[1;32mif\u001b[0m \u001b[0mself\u001b[0m\u001b[1;33m.\u001b[0m\u001b[0m_info_axis\u001b[0m\u001b[1;33m.\u001b[0m\u001b[0m_can_hold_identifiers_and_holds_name\u001b[0m\u001b[1;33m(\u001b[0m\u001b[0mname\u001b[0m\u001b[1;33m)\u001b[0m\u001b[1;33m:\u001b[0m\u001b[1;33m\u001b[0m\u001b[1;33m\u001b[0m\u001b[0m\n\u001b[0;32m   5138\u001b[0m                 \u001b[1;32mreturn\u001b[0m \u001b[0mself\u001b[0m\u001b[1;33m[\u001b[0m\u001b[0mname\u001b[0m\u001b[1;33m]\u001b[0m\u001b[1;33m\u001b[0m\u001b[1;33m\u001b[0m\u001b[0m\n\u001b[1;32m-> 5139\u001b[1;33m             \u001b[1;32mreturn\u001b[0m \u001b[0mobject\u001b[0m\u001b[1;33m.\u001b[0m\u001b[0m__getattribute__\u001b[0m\u001b[1;33m(\u001b[0m\u001b[0mself\u001b[0m\u001b[1;33m,\u001b[0m \u001b[0mname\u001b[0m\u001b[1;33m)\u001b[0m\u001b[1;33m\u001b[0m\u001b[1;33m\u001b[0m\u001b[0m\n\u001b[0m\u001b[0;32m   5140\u001b[0m \u001b[1;33m\u001b[0m\u001b[0m\n\u001b[0;32m   5141\u001b[0m     \u001b[1;32mdef\u001b[0m \u001b[0m__setattr__\u001b[0m\u001b[1;33m(\u001b[0m\u001b[0mself\u001b[0m\u001b[1;33m,\u001b[0m \u001b[0mname\u001b[0m\u001b[1;33m:\u001b[0m \u001b[0mstr\u001b[0m\u001b[1;33m,\u001b[0m \u001b[0mvalue\u001b[0m\u001b[1;33m)\u001b[0m \u001b[1;33m->\u001b[0m \u001b[1;32mNone\u001b[0m\u001b[1;33m:\u001b[0m\u001b[1;33m\u001b[0m\u001b[1;33m\u001b[0m\u001b[0m\n",
      "\u001b[1;31mAttributeError\u001b[0m: 'Series' object has no attribute 'isdigit'"
     ]
    }
   ],
   "source": [
    "ChessML['White Score'].isdigit()"
   ]
  },
  {
   "cell_type": "code",
   "execution_count": 28,
   "metadata": {},
   "outputs": [
    {
     "ename": "ValueError",
     "evalue": "invalid literal for int() with base 10: '*'",
     "output_type": "error",
     "traceback": [
      "\u001b[1;31m---------------------------------------------------------------------------\u001b[0m",
      "\u001b[1;31mValueError\u001b[0m                                Traceback (most recent call last)",
      "\u001b[1;32m<ipython-input-28-b7862a6208f4>\u001b[0m in \u001b[0;36m<module>\u001b[1;34m\u001b[0m\n\u001b[1;32m----> 1\u001b[1;33m \u001b[0mChessML\u001b[0m\u001b[1;33m[\u001b[0m\u001b[1;34m'White Score'\u001b[0m\u001b[1;33m]\u001b[0m \u001b[1;33m=\u001b[0m \u001b[0mChessML\u001b[0m\u001b[1;33m[\u001b[0m\u001b[1;34m'White Score'\u001b[0m\u001b[1;33m]\u001b[0m\u001b[1;33m.\u001b[0m\u001b[0mastype\u001b[0m\u001b[1;33m(\u001b[0m\u001b[0mstr\u001b[0m\u001b[1;33m)\u001b[0m\u001b[1;33m.\u001b[0m\u001b[0mastype\u001b[0m\u001b[1;33m(\u001b[0m\u001b[0mint\u001b[0m\u001b[1;33m)\u001b[0m\u001b[1;33m\u001b[0m\u001b[1;33m\u001b[0m\u001b[0m\n\u001b[0m",
      "\u001b[1;32m~\\anaconda3\\lib\\site-packages\\pandas\\core\\generic.py\u001b[0m in \u001b[0;36mastype\u001b[1;34m(self, dtype, copy, errors)\u001b[0m\n\u001b[0;32m   5544\u001b[0m         \u001b[1;32melse\u001b[0m\u001b[1;33m:\u001b[0m\u001b[1;33m\u001b[0m\u001b[1;33m\u001b[0m\u001b[0m\n\u001b[0;32m   5545\u001b[0m             \u001b[1;31m# else, only a single dtype is given\u001b[0m\u001b[1;33m\u001b[0m\u001b[1;33m\u001b[0m\u001b[1;33m\u001b[0m\u001b[0m\n\u001b[1;32m-> 5546\u001b[1;33m             \u001b[0mnew_data\u001b[0m \u001b[1;33m=\u001b[0m \u001b[0mself\u001b[0m\u001b[1;33m.\u001b[0m\u001b[0m_mgr\u001b[0m\u001b[1;33m.\u001b[0m\u001b[0mastype\u001b[0m\u001b[1;33m(\u001b[0m\u001b[0mdtype\u001b[0m\u001b[1;33m=\u001b[0m\u001b[0mdtype\u001b[0m\u001b[1;33m,\u001b[0m \u001b[0mcopy\u001b[0m\u001b[1;33m=\u001b[0m\u001b[0mcopy\u001b[0m\u001b[1;33m,\u001b[0m \u001b[0merrors\u001b[0m\u001b[1;33m=\u001b[0m\u001b[0merrors\u001b[0m\u001b[1;33m,\u001b[0m\u001b[1;33m)\u001b[0m\u001b[1;33m\u001b[0m\u001b[1;33m\u001b[0m\u001b[0m\n\u001b[0m\u001b[0;32m   5547\u001b[0m             \u001b[1;32mreturn\u001b[0m \u001b[0mself\u001b[0m\u001b[1;33m.\u001b[0m\u001b[0m_constructor\u001b[0m\u001b[1;33m(\u001b[0m\u001b[0mnew_data\u001b[0m\u001b[1;33m)\u001b[0m\u001b[1;33m.\u001b[0m\u001b[0m__finalize__\u001b[0m\u001b[1;33m(\u001b[0m\u001b[0mself\u001b[0m\u001b[1;33m,\u001b[0m \u001b[0mmethod\u001b[0m\u001b[1;33m=\u001b[0m\u001b[1;34m\"astype\"\u001b[0m\u001b[1;33m)\u001b[0m\u001b[1;33m\u001b[0m\u001b[1;33m\u001b[0m\u001b[0m\n\u001b[0;32m   5548\u001b[0m \u001b[1;33m\u001b[0m\u001b[0m\n",
      "\u001b[1;32m~\\anaconda3\\lib\\site-packages\\pandas\\core\\internals\\managers.py\u001b[0m in \u001b[0;36mastype\u001b[1;34m(self, dtype, copy, errors)\u001b[0m\n\u001b[0;32m    593\u001b[0m         \u001b[0mself\u001b[0m\u001b[1;33m,\u001b[0m \u001b[0mdtype\u001b[0m\u001b[1;33m,\u001b[0m \u001b[0mcopy\u001b[0m\u001b[1;33m:\u001b[0m \u001b[0mbool\u001b[0m \u001b[1;33m=\u001b[0m \u001b[1;32mFalse\u001b[0m\u001b[1;33m,\u001b[0m \u001b[0merrors\u001b[0m\u001b[1;33m:\u001b[0m \u001b[0mstr\u001b[0m \u001b[1;33m=\u001b[0m \u001b[1;34m\"raise\"\u001b[0m\u001b[1;33m\u001b[0m\u001b[1;33m\u001b[0m\u001b[0m\n\u001b[0;32m    594\u001b[0m     ) -> \"BlockManager\":\n\u001b[1;32m--> 595\u001b[1;33m         \u001b[1;32mreturn\u001b[0m \u001b[0mself\u001b[0m\u001b[1;33m.\u001b[0m\u001b[0mapply\u001b[0m\u001b[1;33m(\u001b[0m\u001b[1;34m\"astype\"\u001b[0m\u001b[1;33m,\u001b[0m \u001b[0mdtype\u001b[0m\u001b[1;33m=\u001b[0m\u001b[0mdtype\u001b[0m\u001b[1;33m,\u001b[0m \u001b[0mcopy\u001b[0m\u001b[1;33m=\u001b[0m\u001b[0mcopy\u001b[0m\u001b[1;33m,\u001b[0m \u001b[0merrors\u001b[0m\u001b[1;33m=\u001b[0m\u001b[0merrors\u001b[0m\u001b[1;33m)\u001b[0m\u001b[1;33m\u001b[0m\u001b[1;33m\u001b[0m\u001b[0m\n\u001b[0m\u001b[0;32m    596\u001b[0m \u001b[1;33m\u001b[0m\u001b[0m\n\u001b[0;32m    597\u001b[0m     def convert(\n",
      "\u001b[1;32m~\\anaconda3\\lib\\site-packages\\pandas\\core\\internals\\managers.py\u001b[0m in \u001b[0;36mapply\u001b[1;34m(self, f, align_keys, **kwargs)\u001b[0m\n\u001b[0;32m    404\u001b[0m                 \u001b[0mapplied\u001b[0m \u001b[1;33m=\u001b[0m \u001b[0mb\u001b[0m\u001b[1;33m.\u001b[0m\u001b[0mapply\u001b[0m\u001b[1;33m(\u001b[0m\u001b[0mf\u001b[0m\u001b[1;33m,\u001b[0m \u001b[1;33m**\u001b[0m\u001b[0mkwargs\u001b[0m\u001b[1;33m)\u001b[0m\u001b[1;33m\u001b[0m\u001b[1;33m\u001b[0m\u001b[0m\n\u001b[0;32m    405\u001b[0m             \u001b[1;32melse\u001b[0m\u001b[1;33m:\u001b[0m\u001b[1;33m\u001b[0m\u001b[1;33m\u001b[0m\u001b[0m\n\u001b[1;32m--> 406\u001b[1;33m                 \u001b[0mapplied\u001b[0m \u001b[1;33m=\u001b[0m \u001b[0mgetattr\u001b[0m\u001b[1;33m(\u001b[0m\u001b[0mb\u001b[0m\u001b[1;33m,\u001b[0m \u001b[0mf\u001b[0m\u001b[1;33m)\u001b[0m\u001b[1;33m(\u001b[0m\u001b[1;33m**\u001b[0m\u001b[0mkwargs\u001b[0m\u001b[1;33m)\u001b[0m\u001b[1;33m\u001b[0m\u001b[1;33m\u001b[0m\u001b[0m\n\u001b[0m\u001b[0;32m    407\u001b[0m             \u001b[0mresult_blocks\u001b[0m \u001b[1;33m=\u001b[0m \u001b[0m_extend_blocks\u001b[0m\u001b[1;33m(\u001b[0m\u001b[0mapplied\u001b[0m\u001b[1;33m,\u001b[0m \u001b[0mresult_blocks\u001b[0m\u001b[1;33m)\u001b[0m\u001b[1;33m\u001b[0m\u001b[1;33m\u001b[0m\u001b[0m\n\u001b[0;32m    408\u001b[0m \u001b[1;33m\u001b[0m\u001b[0m\n",
      "\u001b[1;32m~\\anaconda3\\lib\\site-packages\\pandas\\core\\internals\\blocks.py\u001b[0m in \u001b[0;36mastype\u001b[1;34m(self, dtype, copy, errors)\u001b[0m\n\u001b[0;32m    593\u001b[0m             \u001b[0mvals1d\u001b[0m \u001b[1;33m=\u001b[0m \u001b[0mvalues\u001b[0m\u001b[1;33m.\u001b[0m\u001b[0mravel\u001b[0m\u001b[1;33m(\u001b[0m\u001b[1;33m)\u001b[0m\u001b[1;33m\u001b[0m\u001b[1;33m\u001b[0m\u001b[0m\n\u001b[0;32m    594\u001b[0m             \u001b[1;32mtry\u001b[0m\u001b[1;33m:\u001b[0m\u001b[1;33m\u001b[0m\u001b[1;33m\u001b[0m\u001b[0m\n\u001b[1;32m--> 595\u001b[1;33m                 \u001b[0mvalues\u001b[0m \u001b[1;33m=\u001b[0m \u001b[0mastype_nansafe\u001b[0m\u001b[1;33m(\u001b[0m\u001b[0mvals1d\u001b[0m\u001b[1;33m,\u001b[0m \u001b[0mdtype\u001b[0m\u001b[1;33m,\u001b[0m \u001b[0mcopy\u001b[0m\u001b[1;33m=\u001b[0m\u001b[1;32mTrue\u001b[0m\u001b[1;33m)\u001b[0m\u001b[1;33m\u001b[0m\u001b[1;33m\u001b[0m\u001b[0m\n\u001b[0m\u001b[0;32m    596\u001b[0m             \u001b[1;32mexcept\u001b[0m \u001b[1;33m(\u001b[0m\u001b[0mValueError\u001b[0m\u001b[1;33m,\u001b[0m \u001b[0mTypeError\u001b[0m\u001b[1;33m)\u001b[0m\u001b[1;33m:\u001b[0m\u001b[1;33m\u001b[0m\u001b[1;33m\u001b[0m\u001b[0m\n\u001b[0;32m    597\u001b[0m                 \u001b[1;31m# e.g. astype_nansafe can fail on object-dtype of strings\u001b[0m\u001b[1;33m\u001b[0m\u001b[1;33m\u001b[0m\u001b[1;33m\u001b[0m\u001b[0m\n",
      "\u001b[1;32m~\\anaconda3\\lib\\site-packages\\pandas\\core\\dtypes\\cast.py\u001b[0m in \u001b[0;36mastype_nansafe\u001b[1;34m(arr, dtype, copy, skipna)\u001b[0m\n\u001b[0;32m    970\u001b[0m         \u001b[1;31m# work around NumPy brokenness, #1987\u001b[0m\u001b[1;33m\u001b[0m\u001b[1;33m\u001b[0m\u001b[1;33m\u001b[0m\u001b[0m\n\u001b[0;32m    971\u001b[0m         \u001b[1;32mif\u001b[0m \u001b[0mnp\u001b[0m\u001b[1;33m.\u001b[0m\u001b[0missubdtype\u001b[0m\u001b[1;33m(\u001b[0m\u001b[0mdtype\u001b[0m\u001b[1;33m.\u001b[0m\u001b[0mtype\u001b[0m\u001b[1;33m,\u001b[0m \u001b[0mnp\u001b[0m\u001b[1;33m.\u001b[0m\u001b[0minteger\u001b[0m\u001b[1;33m)\u001b[0m\u001b[1;33m:\u001b[0m\u001b[1;33m\u001b[0m\u001b[1;33m\u001b[0m\u001b[0m\n\u001b[1;32m--> 972\u001b[1;33m             \u001b[1;32mreturn\u001b[0m \u001b[0mlib\u001b[0m\u001b[1;33m.\u001b[0m\u001b[0mastype_intsafe\u001b[0m\u001b[1;33m(\u001b[0m\u001b[0marr\u001b[0m\u001b[1;33m.\u001b[0m\u001b[0mravel\u001b[0m\u001b[1;33m(\u001b[0m\u001b[1;33m)\u001b[0m\u001b[1;33m,\u001b[0m \u001b[0mdtype\u001b[0m\u001b[1;33m)\u001b[0m\u001b[1;33m.\u001b[0m\u001b[0mreshape\u001b[0m\u001b[1;33m(\u001b[0m\u001b[0marr\u001b[0m\u001b[1;33m.\u001b[0m\u001b[0mshape\u001b[0m\u001b[1;33m)\u001b[0m\u001b[1;33m\u001b[0m\u001b[1;33m\u001b[0m\u001b[0m\n\u001b[0m\u001b[0;32m    973\u001b[0m \u001b[1;33m\u001b[0m\u001b[0m\n\u001b[0;32m    974\u001b[0m         \u001b[1;31m# if we have a datetime/timedelta array of objects\u001b[0m\u001b[1;33m\u001b[0m\u001b[1;33m\u001b[0m\u001b[1;33m\u001b[0m\u001b[0m\n",
      "\u001b[1;32mpandas\\_libs\\lib.pyx\u001b[0m in \u001b[0;36mpandas._libs.lib.astype_intsafe\u001b[1;34m()\u001b[0m\n",
      "\u001b[1;31mValueError\u001b[0m: invalid literal for int() with base 10: '*'"
     ]
    }
   ],
   "source": [
    "ChessML['White Score'] = ChessML['White Score'].astype(str).astype(int)"
   ]
  },
  {
   "cell_type": "code",
   "execution_count": 14,
   "metadata": {},
   "outputs": [
    {
     "name": "stdout",
     "output_type": "stream",
     "text": [
      "<class 'pandas.core.frame.DataFrame'>\n",
      "RangeIndex: 3739909 entries, 0 to 3739908\n",
      "Data columns (total 28 columns):\n",
      " #   Column                Dtype  \n",
      "---  ------                -----  \n",
      " 0   GAME                  int64  \n",
      " 1   BlackElo              int64  \n",
      " 2   WhiteElo              int64  \n",
      " 3   starting_time         float64\n",
      " 4   Total_moves           int64  \n",
      " 5   Black_blunders        int64  \n",
      " 6   White_blunders        int64  \n",
      " 7   Black_mistakes        int64  \n",
      " 8   White_mistakes        int64  \n",
      " 9   Black_inaccuracies    int64  \n",
      " 10  White_inaccuracies    int64  \n",
      " 11  Black_inferior_moves  int64  \n",
      " 12  White_inferior_moves  int64  \n",
      " 13  Black_ts_moves        int64  \n",
      " 14  White_ts_moves        int64  \n",
      " 15  Black_ts_blunders     int64  \n",
      " 16  White_ts_blunders     int64  \n",
      " 17  Black_ts_mistakes     int64  \n",
      " 18  White_ts_mistake      int64  \n",
      " 19  Black_long_moves      int64  \n",
      " 20  White_long_moves      int64  \n",
      " 21  Black_bad_long_moves  int64  \n",
      " 22  White_bad_long_moves  int64  \n",
      " 23  Game_flips            int64  \n",
      " 24  Game_flips_ts         int64  \n",
      " 25  Rating Difference     int64  \n",
      " 26  White Score           object \n",
      " 27  Black Score           object \n",
      "dtypes: float64(1), int64(25), object(2)\n",
      "memory usage: 798.9+ MB\n"
     ]
    }
   ],
   "source": [
    "ChessML.info(verbose = True)"
   ]
  },
  {
   "cell_type": "code",
   "execution_count": 15,
   "metadata": {},
   "outputs": [
    {
     "data": {
      "text/plain": [
       "GAME                    0.000000\n",
       "BlackElo                0.000000\n",
       "WhiteElo                0.000000\n",
       "starting_time           0.276584\n",
       "Total_moves             0.000000\n",
       "Black_blunders          0.000000\n",
       "White_blunders          0.000000\n",
       "Black_mistakes          0.000000\n",
       "White_mistakes          0.000000\n",
       "Black_inaccuracies      0.000000\n",
       "White_inaccuracies      0.000000\n",
       "Black_inferior_moves    0.000000\n",
       "White_inferior_moves    0.000000\n",
       "Black_ts_moves          0.000000\n",
       "White_ts_moves          0.000000\n",
       "Black_ts_blunders       0.000000\n",
       "White_ts_blunders       0.000000\n",
       "Black_ts_mistakes       0.000000\n",
       "White_ts_mistake        0.000000\n",
       "Black_long_moves        0.000000\n",
       "White_long_moves        0.000000\n",
       "Black_bad_long_moves    0.000000\n",
       "White_bad_long_moves    0.000000\n",
       "Game_flips              0.000000\n",
       "Game_flips_ts           0.000000\n",
       "Rating Difference       0.000000\n",
       "White Score             0.000000\n",
       "Black Score             0.000000\n",
       "dtype: float64"
      ]
     },
     "execution_count": 15,
     "metadata": {},
     "output_type": "execute_result"
    }
   ],
   "source": [
    "ChessML.isna().mean().round(10)*100"
   ]
  },
  {
   "cell_type": "code",
   "execution_count": 111,
   "metadata": {},
   "outputs": [],
   "source": [
    "ChessML = ChessML.reset_index()"
   ]
  },
  {
   "cell_type": "code",
   "execution_count": 16,
   "metadata": {},
   "outputs": [],
   "source": [
    "X = np.array(ChessML[['BlackElo', 'WhiteElo', 'Black_blunders', 'White_blunders', 'Black_mistakes', 'White_mistakes', 'Black_inaccuracies', 'White_inaccuracies', 'Black_inferior_moves', 'White_inferior_moves', 'Black_ts_moves', 'White_ts_moves', 'Black_ts_blunders', 'White_ts_blunders', 'Black_ts_mistakes', 'White_ts_mistake', 'Black_long_moves', 'White_long_moves','Black_bad_long_moves', 'White_bad_long_moves', 'Game_flips', 'Game_flips_ts']])\n",
    "y = np.array(ChessML['Total_moves'])"
   ]
  },
  {
   "cell_type": "code",
   "execution_count": 17,
   "metadata": {},
   "outputs": [],
   "source": [
    "x_train, x_test_prime, y_train, y_test_prime = train_test_split(X, y, test_size=.50, random_state=42)\n",
    "x_validate, x_test, y_validate, y_test = train_test_split(x_test_prime, y_test_prime, test_size=.50, random_state=42)"
   ]
  },
  {
   "cell_type": "code",
   "execution_count": 18,
   "metadata": {},
   "outputs": [],
   "source": [
    "knn_model = KNeighborsClassifier(n_neighbors=5)"
   ]
  },
  {
   "cell_type": "code",
   "execution_count": 19,
   "metadata": {},
   "outputs": [
    {
     "data": {
      "text/plain": [
       "KNeighborsClassifier()"
      ]
     },
     "execution_count": 19,
     "metadata": {},
     "output_type": "execute_result"
    }
   ],
   "source": [
    "knn_model.fit(x_train,y_train)"
   ]
  },
  {
   "cell_type": "markdown",
   "metadata": {},
   "source": [
    "Prediction"
   ]
  },
  {
   "cell_type": "code",
   "execution_count": 20,
   "metadata": {},
   "outputs": [],
   "source": [
    "y_validate_pred = knn_model.predict(x_validate)"
   ]
  },
  {
   "cell_type": "code",
   "execution_count": 24,
   "metadata": {},
   "outputs": [],
   "source": [
    "accuracy = metrics.accuracy_score(y_validate,y_validate_pred)\n",
    "precision = metrics.precision_score(y_validate,y_validate_pred, average='micro')\n",
    "recall = metrics.recall_score(y_validate,y_validate_pred, average='micro')\n",
    "f1 = metrics.f1_score(y_validate,y_validate_pred, average='micro')"
   ]
  },
  {
   "cell_type": "code",
   "execution_count": 25,
   "metadata": {},
   "outputs": [
    {
     "name": "stdout",
     "output_type": "stream",
     "text": [
      "0.023458331060550154 0.023458331060550154 0.023458331060550154 0.023458331060550158\n"
     ]
    }
   ],
   "source": [
    "print(accuracy, precision, recall, f1)"
   ]
  },
  {
   "cell_type": "markdown",
   "metadata": {},
   "source": [
    "Test"
   ]
  },
  {
   "cell_type": "code",
   "execution_count": 27,
   "metadata": {},
   "outputs": [],
   "source": [
    "y_pred = knn_model.predict(x_test)"
   ]
  },
  {
   "cell_type": "code",
   "execution_count": 29,
   "metadata": {},
   "outputs": [],
   "source": [
    "accuracy = metrics.accuracy_score(y_test,y_pred)\n",
    "precision = metrics.precision_score(y_test,y_pred, average='micro')\n",
    "recall = metrics.recall_score(y_test,y_pred, average='micro')\n",
    "f1 = metrics.f1_score(y_test,y_pred, average='micro')"
   ]
  },
  {
   "cell_type": "code",
   "execution_count": 30,
   "metadata": {},
   "outputs": [
    {
     "name": "stdout",
     "output_type": "stream",
     "text": [
      "0.02350429635777526 0.02350429635777526 0.02350429635777526 0.02350429635777526\n"
     ]
    }
   ],
   "source": [
    "print(accuracy, precision, recall, f1)"
   ]
  },
  {
   "cell_type": "markdown",
   "metadata": {},
   "source": [
    "ROC Curves"
   ]
  },
  {
   "cell_type": "code",
   "execution_count": 32,
   "metadata": {},
   "outputs": [
    {
     "ename": "ValueError",
     "evalue": "KNeighborsClassifier should be a binary classifier",
     "output_type": "error",
     "traceback": [
      "\u001b[1;31m---------------------------------------------------------------------------\u001b[0m",
      "\u001b[1;31mValueError\u001b[0m                                Traceback (most recent call last)",
      "\u001b[1;32m<ipython-input-32-9225690ec107>\u001b[0m in \u001b[0;36m<module>\u001b[1;34m\u001b[0m\n\u001b[1;32m----> 1\u001b[1;33m \u001b[0mroc\u001b[0m \u001b[1;33m=\u001b[0m \u001b[0mmetrics\u001b[0m\u001b[1;33m.\u001b[0m\u001b[0mplot_roc_curve\u001b[0m\u001b[1;33m(\u001b[0m\u001b[0mknn_model\u001b[0m\u001b[1;33m,\u001b[0m\u001b[0mx_test\u001b[0m\u001b[1;33m,\u001b[0m \u001b[0my_test\u001b[0m\u001b[1;33m,\u001b[0m \u001b[0maverage\u001b[0m\u001b[1;33m=\u001b[0m\u001b[1;34m'micro'\u001b[0m\u001b[1;33m)\u001b[0m\u001b[1;33m\u001b[0m\u001b[1;33m\u001b[0m\u001b[0m\n\u001b[0m",
      "\u001b[1;32m~\\anaconda3\\lib\\site-packages\\sklearn\\utils\\validation.py\u001b[0m in \u001b[0;36minner_f\u001b[1;34m(*args, **kwargs)\u001b[0m\n\u001b[0;32m     70\u001b[0m                           FutureWarning)\n\u001b[0;32m     71\u001b[0m         \u001b[0mkwargs\u001b[0m\u001b[1;33m.\u001b[0m\u001b[0mupdate\u001b[0m\u001b[1;33m(\u001b[0m\u001b[1;33m{\u001b[0m\u001b[0mk\u001b[0m\u001b[1;33m:\u001b[0m \u001b[0marg\u001b[0m \u001b[1;32mfor\u001b[0m \u001b[0mk\u001b[0m\u001b[1;33m,\u001b[0m \u001b[0marg\u001b[0m \u001b[1;32min\u001b[0m \u001b[0mzip\u001b[0m\u001b[1;33m(\u001b[0m\u001b[0msig\u001b[0m\u001b[1;33m.\u001b[0m\u001b[0mparameters\u001b[0m\u001b[1;33m,\u001b[0m \u001b[0margs\u001b[0m\u001b[1;33m)\u001b[0m\u001b[1;33m}\u001b[0m\u001b[1;33m)\u001b[0m\u001b[1;33m\u001b[0m\u001b[1;33m\u001b[0m\u001b[0m\n\u001b[1;32m---> 72\u001b[1;33m         \u001b[1;32mreturn\u001b[0m \u001b[0mf\u001b[0m\u001b[1;33m(\u001b[0m\u001b[1;33m**\u001b[0m\u001b[0mkwargs\u001b[0m\u001b[1;33m)\u001b[0m\u001b[1;33m\u001b[0m\u001b[1;33m\u001b[0m\u001b[0m\n\u001b[0m\u001b[0;32m     73\u001b[0m     \u001b[1;32mreturn\u001b[0m \u001b[0minner_f\u001b[0m\u001b[1;33m\u001b[0m\u001b[1;33m\u001b[0m\u001b[0m\n\u001b[0;32m     74\u001b[0m \u001b[1;33m\u001b[0m\u001b[0m\n",
      "\u001b[1;32m~\\anaconda3\\lib\\site-packages\\sklearn\\metrics\\_plot\\roc_curve.py\u001b[0m in \u001b[0;36mplot_roc_curve\u001b[1;34m(estimator, X, y, sample_weight, drop_intermediate, response_method, name, ax, **kwargs)\u001b[0m\n\u001b[0;32m    188\u001b[0m     \u001b[1;32mif\u001b[0m \u001b[0my_pred\u001b[0m\u001b[1;33m.\u001b[0m\u001b[0mndim\u001b[0m \u001b[1;33m!=\u001b[0m \u001b[1;36m1\u001b[0m\u001b[1;33m:\u001b[0m\u001b[1;33m\u001b[0m\u001b[1;33m\u001b[0m\u001b[0m\n\u001b[0;32m    189\u001b[0m         \u001b[1;32mif\u001b[0m \u001b[0my_pred\u001b[0m\u001b[1;33m.\u001b[0m\u001b[0mshape\u001b[0m\u001b[1;33m[\u001b[0m\u001b[1;36m1\u001b[0m\u001b[1;33m]\u001b[0m \u001b[1;33m!=\u001b[0m \u001b[1;36m2\u001b[0m\u001b[1;33m:\u001b[0m\u001b[1;33m\u001b[0m\u001b[1;33m\u001b[0m\u001b[0m\n\u001b[1;32m--> 190\u001b[1;33m             \u001b[1;32mraise\u001b[0m \u001b[0mValueError\u001b[0m\u001b[1;33m(\u001b[0m\u001b[0mclassification_error\u001b[0m\u001b[1;33m)\u001b[0m\u001b[1;33m\u001b[0m\u001b[1;33m\u001b[0m\u001b[0m\n\u001b[0m\u001b[0;32m    191\u001b[0m         \u001b[1;32melse\u001b[0m\u001b[1;33m:\u001b[0m\u001b[1;33m\u001b[0m\u001b[1;33m\u001b[0m\u001b[0m\n\u001b[0;32m    192\u001b[0m             \u001b[0my_pred\u001b[0m \u001b[1;33m=\u001b[0m \u001b[0my_pred\u001b[0m\u001b[1;33m[\u001b[0m\u001b[1;33m:\u001b[0m\u001b[1;33m,\u001b[0m \u001b[1;36m1\u001b[0m\u001b[1;33m]\u001b[0m\u001b[1;33m\u001b[0m\u001b[1;33m\u001b[0m\u001b[0m\n",
      "\u001b[1;31mValueError\u001b[0m: KNeighborsClassifier should be a binary classifier"
     ]
    }
   ],
   "source": [
    "roc = metrics.plot_roc_curve(knn_model,x_test, y_test, average='micro')"
   ]
  },
  {
   "cell_type": "code",
   "execution_count": null,
   "metadata": {},
   "outputs": [],
   "source": [
    "y_scores = knn_model.predict_proba(x_test)\n",
    "fpr, tpr, threshold = roc_curve(y_test, y_scores[:, 1])"
   ]
  },
  {
   "cell_type": "code",
   "execution_count": null,
   "metadata": {},
   "outputs": [],
   "source": [
    "y_score = knn_model.predict_proba(x_test)[:,1]"
   ]
  },
  {
   "cell_type": "code",
   "execution_count": null,
   "metadata": {},
   "outputs": [],
   "source": [
    "y_score"
   ]
  },
  {
   "cell_type": "code",
   "execution_count": null,
   "metadata": {},
   "outputs": [],
   "source": [
    "fpr, tpr, thresholds = metrics.roc_curve(y_test,y_score)"
   ]
  },
  {
   "cell_type": "code",
   "execution_count": null,
   "metadata": {},
   "outputs": [],
   "source": [
    "plt.plot(fpr,tpr)"
   ]
  }
 ],
 "metadata": {
  "kernelspec": {
   "display_name": "Python 3",
   "language": "python",
   "name": "python3"
  },
  "language_info": {
   "codemirror_mode": {
    "name": "ipython",
    "version": 3
   },
   "file_extension": ".py",
   "mimetype": "text/x-python",
   "name": "python",
   "nbconvert_exporter": "python",
   "pygments_lexer": "ipython3",
   "version": "3.8.5"
  }
 },
 "nbformat": 4,
 "nbformat_minor": 4
}
